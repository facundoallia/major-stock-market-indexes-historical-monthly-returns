{
 "cells": [
  {
   "cell_type": "markdown",
   "metadata": {},
   "source": [
    "1. Importamos las librerias que vamos a utilizar"
   ]
  },
  {
   "cell_type": "code",
   "execution_count": 106,
   "metadata": {},
   "outputs": [],
   "source": [
    "import pandas as pd \n",
    "import numpy as np\n",
    "import datetime as dt\n",
    "import matplotlib.pyplot as plt\n",
    "import seaborn as sb"
   ]
  },
  {
   "cell_type": "markdown",
   "metadata": {},
   "source": [
    "2. Definimos los dataframes a partir de los archivos csv con cotizaciones historicas\n"
   ]
  },
  {
   "cell_type": "code",
   "execution_count": 107,
   "metadata": {},
   "outputs": [],
   "source": [
    "sp = pd.read_csv(\"spy.csv\")\n",
    "nq = pd.read_csv(\"nq.csv\")\n",
    "dj = pd.read_csv(\"dia.csv\")\n",
    "rs = pd.read_csv(\"rusell.csv\")"
   ]
  },
  {
   "cell_type": "markdown",
   "metadata": {},
   "source": [
    "3. Añadimos una columna con el numero de cada mes con el que agruparemos luego"
   ]
  },
  {
   "cell_type": "code",
   "execution_count": 108,
   "metadata": {},
   "outputs": [],
   "source": [
    "sp['month_num'] = pd.DatetimeIndex(sp[\"Date\"]).month\n",
    "\n",
    "nq['month_num'] = pd.DatetimeIndex(nq[\"Date\"]).month\n",
    "\n",
    "dj['month_num'] = pd.DatetimeIndex(dj[\"Date\"]).month\n",
    "\n",
    "rs['month_num'] = pd.DatetimeIndex(rs[\"Date\"]).month"
   ]
  },
  {
   "cell_type": "markdown",
   "metadata": {},
   "source": [
    "4. Añadimos una columna con el rendimiento continuo mensual de cada indice\n",
    "\n",
    "    r = ln (Pi / Pj)"
   ]
  },
  {
   "cell_type": "code",
   "execution_count": 111,
   "metadata": {},
   "outputs": [],
   "source": [
    "sp[\"S&P500\"] = np.log(sp[\"Close\"]/(sp[\"Close\"].shift(1)))\n",
    "\n",
    "nq[\"NASDAQ\"] = np.log(nq[\"Close\"]/(nq[\"Close\"].shift(1)))\n",
    "\n",
    "dj[\"DOW_JONES\"] = np.log(dj[\"Close\"]/(dj[\"Close\"].shift(1)))\n",
    "\n",
    "rs[\"RUSELL2000\"] = np.log(rs[\"Close\"]/(rs[\"Close\"].shift(1)))"
   ]
  },
  {
   "cell_type": "markdown",
   "metadata": {},
   "source": [
    "5. Obtenemos el promedio mensual agrupado por mes de cada indice"
   ]
  },
  {
   "cell_type": "code",
   "execution_count": 113,
   "metadata": {},
   "outputs": [],
   "source": [
    "mr_sp = pd.DataFrame(sp.groupby('month_num')['S&P500'].mean())\n",
    "mr_nq = pd.DataFrame(nq.groupby('month_num')['NASDAQ'].mean())\n",
    "mr_dj = pd.DataFrame(dj.groupby('month_num')['DOW_JONES'].mean())\n",
    "mr_rs = pd.DataFrame(rs.groupby('month_num')['RUSELL2000'].mean())"
   ]
  },
  {
   "cell_type": "markdown",
   "metadata": {},
   "source": [
    "6. Damos formato y redondeamos a dos decimales"
   ]
  },
  {
   "cell_type": "code",
   "execution_count": 114,
   "metadata": {},
   "outputs": [],
   "source": [
    "mr_sp['S&P500'] = round(mr_sp['S&P500']*100,2)\n",
    "mr_nq['NASDAQ'] = round(mr_nq['NASDAQ']*100,2)\n",
    "mr_dj['DOW_JONES'] = round(mr_dj['DOW_JONES']*100,2)\n",
    "mr_rs['RUSELL2000'] = round(mr_rs['RUSELL2000']*100,2)"
   ]
  },
  {
   "cell_type": "markdown",
   "metadata": {},
   "source": [
    "7. Unimos los datos en un unico dataframe y lo trasponemos para una mejor visualización"
   ]
  },
  {
   "cell_type": "code",
   "execution_count": 115,
   "metadata": {},
   "outputs": [
    {
     "data": {
      "text/html": [
       "<div>\n",
       "<style scoped>\n",
       "    .dataframe tbody tr th:only-of-type {\n",
       "        vertical-align: middle;\n",
       "    }\n",
       "\n",
       "    .dataframe tbody tr th {\n",
       "        vertical-align: top;\n",
       "    }\n",
       "\n",
       "    .dataframe thead th {\n",
       "        text-align: right;\n",
       "    }\n",
       "</style>\n",
       "<table border=\"1\" class=\"dataframe\">\n",
       "  <thead>\n",
       "    <tr style=\"text-align: right;\">\n",
       "      <th>month_num</th>\n",
       "      <th>1</th>\n",
       "      <th>2</th>\n",
       "      <th>3</th>\n",
       "      <th>4</th>\n",
       "      <th>5</th>\n",
       "      <th>6</th>\n",
       "      <th>7</th>\n",
       "      <th>8</th>\n",
       "      <th>9</th>\n",
       "      <th>10</th>\n",
       "      <th>11</th>\n",
       "      <th>12</th>\n",
       "    </tr>\n",
       "  </thead>\n",
       "  <tbody>\n",
       "    <tr>\n",
       "      <th>S&amp;P500</th>\n",
       "      <td>0.36</td>\n",
       "      <td>-0.15</td>\n",
       "      <td>0.68</td>\n",
       "      <td>1.91</td>\n",
       "      <td>0.62</td>\n",
       "      <td>-0.20</td>\n",
       "      <td>1.03</td>\n",
       "      <td>-0.07</td>\n",
       "      <td>-0.82</td>\n",
       "      <td>1.50</td>\n",
       "      <td>1.96</td>\n",
       "      <td>0.65</td>\n",
       "    </tr>\n",
       "    <tr>\n",
       "      <th>NASDAQ</th>\n",
       "      <td>1.76</td>\n",
       "      <td>0.51</td>\n",
       "      <td>0.61</td>\n",
       "      <td>0.99</td>\n",
       "      <td>1.05</td>\n",
       "      <td>0.91</td>\n",
       "      <td>0.82</td>\n",
       "      <td>0.22</td>\n",
       "      <td>-0.89</td>\n",
       "      <td>0.61</td>\n",
       "      <td>1.62</td>\n",
       "      <td>1.78</td>\n",
       "    </tr>\n",
       "    <tr>\n",
       "      <th>DOW_JONES</th>\n",
       "      <td>-0.77</td>\n",
       "      <td>-0.47</td>\n",
       "      <td>0.92</td>\n",
       "      <td>2.27</td>\n",
       "      <td>-0.26</td>\n",
       "      <td>-0.54</td>\n",
       "      <td>1.01</td>\n",
       "      <td>-0.50</td>\n",
       "      <td>-1.17</td>\n",
       "      <td>1.76</td>\n",
       "      <td>2.11</td>\n",
       "      <td>1.05</td>\n",
       "    </tr>\n",
       "    <tr>\n",
       "      <th>RUSELL2000</th>\n",
       "      <td>0.28</td>\n",
       "      <td>1.00</td>\n",
       "      <td>0.68</td>\n",
       "      <td>1.22</td>\n",
       "      <td>0.91</td>\n",
       "      <td>0.61</td>\n",
       "      <td>-0.38</td>\n",
       "      <td>-0.52</td>\n",
       "      <td>-0.28</td>\n",
       "      <td>-0.05</td>\n",
       "      <td>1.66</td>\n",
       "      <td>2.62</td>\n",
       "    </tr>\n",
       "  </tbody>\n",
       "</table>\n",
       "</div>"
      ],
      "text/plain": [
       "month_num     1     2     3     4     5     6     7     8     9     10    11  \\\n",
       "S&P500      0.36 -0.15  0.68  1.91  0.62 -0.20  1.03 -0.07 -0.82  1.50  1.96   \n",
       "NASDAQ      1.76  0.51  0.61  0.99  1.05  0.91  0.82  0.22 -0.89  0.61  1.62   \n",
       "DOW_JONES  -0.77 -0.47  0.92  2.27 -0.26 -0.54  1.01 -0.50 -1.17  1.76  2.11   \n",
       "RUSELL2000  0.28  1.00  0.68  1.22  0.91  0.61 -0.38 -0.52 -0.28 -0.05  1.66   \n",
       "\n",
       "month_num     12  \n",
       "S&P500      0.65  \n",
       "NASDAQ      1.78  \n",
       "DOW_JONES   1.05  \n",
       "RUSELL2000  2.62  "
      ]
     },
     "execution_count": 115,
     "metadata": {},
     "output_type": "execute_result"
    }
   ],
   "source": [
    "dff = mr_sp.merge(mr_nq,on='month_num').merge(mr_dj,on='month_num').merge(mr_rs,on='month_num')\n",
    "\n",
    "dfft = dff.transpose()\n",
    "\n",
    "dfft"
   ]
  },
  {
   "cell_type": "markdown",
   "metadata": {},
   "source": [
    "8. Graficamos en heatmap de seaborn"
   ]
  },
  {
   "cell_type": "code",
   "execution_count": 117,
   "metadata": {},
   "outputs": [
    {
     "data": {
      "image/png": "[encoded data removed]",
      "text/plain": [
       "<Figure size 792x648 with 2 Axes>"
      ]
     },
     "metadata": {
      "needs_background": "light"
     },
     "output_type": "display_data"
    }
   ],
   "source": [
    "# figure\n",
    "fig, ax = plt.subplots(figsize=(11, 9))\n",
    "# plot heatmap\n",
    "sb.heatmap(dfft, cmap=sb.diverging_palette(10, 130, n=11), vmin= -1.2, vmax=2.6, square=True,\n",
    "           linewidth=0.3, annot=True , cbar_kws={\"shrink\": .8})\n",
    "# xticks\n",
    "ax.xaxis.tick_top()\n",
    "xticks_labels = ['Jan', 'Feb', 'Mar', 'Apr', 'May', 'Jun',\n",
    "                'Jul', 'Aug', 'Sep', 'Oct', 'Nov', 'Dec']\n",
    "plt.xticks(np.arange(12) + .5, labels=xticks_labels)\n",
    "# axis labels\n",
    "plt.xlabel('')\n",
    "plt.ylabel('')\n",
    "# title\n",
    "title = 'Historial monthly Average returns of main equity index \\n'\n",
    "plt.title(title, loc='left')\n",
    "plt.show()"
   ]
  }
 ],
 "metadata": {
  "interpreter": {
   "hash": "b5d04f6d8a329d95987b154106802e5cf109483b394daa4f9d4f080f051e1734"
  },
  "kernelspec": {
   "display_name": "Python 3.10.2 64-bit",
   "language": "python",
   "name": "python3"
  },
  "language_info": {
   "codemirror_mode": {
    "name": "ipython",
    "version": 3
   },
   "file_extension": ".py",
   "mimetype": "text/x-python",
   "name": "python",
   "nbconvert_exporter": "python",
   "pygments_lexer": "ipython3",
   "version": "3.10.2"
  },
  "orig_nbformat": 4
 },
 "nbformat": 4,
 "nbformat_minor": 2
}
